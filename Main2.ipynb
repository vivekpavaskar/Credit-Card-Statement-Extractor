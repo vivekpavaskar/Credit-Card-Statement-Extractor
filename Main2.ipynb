{
 "cells": [
  {
   "cell_type": "code",
   "execution_count": null,
   "id": "9edfad08",
   "metadata": {},
   "outputs": [],
   "source": [
    "import camelot\n",
    "import pandas as pd\n",
    "import numpy as np\n",
    "import cred as cred"
   ]
  },
  {
   "cell_type": "code",
   "execution_count": null,
   "id": "d8ac8a23",
   "metadata": {},
   "outputs": [],
   "source": [
    "tables = camelot.read_pdf(cred.filename,password=cred.password, pages='all')"
   ]
  },
  {
   "cell_type": "code",
   "execution_count": null,
   "id": "79233eca",
   "metadata": {},
   "outputs": [],
   "source": [
    "print(\"Total tables extracted:\", tables.n)"
   ]
  },
  {
   "cell_type": "code",
   "execution_count": null,
   "id": "53f5d901",
   "metadata": {},
   "outputs": [],
   "source": [
    "temp = {\n",
    "    'date' : tables[1].df[1][1].split(\"\\n\"),\n",
    "    'txn_details' : tables[1].df[2][1].split(\"\\n\"),\n",
    "    'amt' : tables[1].df[4][1].split(\"\\n\"),\n",
    "    'cb' : tables[1].df[5][1].split(\"\\n\")\n",
    "}"
   ]
  },
  {
   "cell_type": "code",
   "execution_count": null,
   "id": "57344925",
   "metadata": {},
   "outputs": [],
   "source": [
    "tab1 = pd.DataFrame(temp)"
   ]
  },
  {
   "cell_type": "code",
   "execution_count": null,
   "id": "d23ab377",
   "metadata": {},
   "outputs": [],
   "source": [
    "tab1[['amt_value','amt_type']] = tab1['amt'].str.split(expand=True)\n",
    "tab1[['cb_value','cb_type']] = tab1['cb'].str.split(expand=True)"
   ]
  },
  {
   "cell_type": "code",
   "execution_count": null,
   "id": "30de3190",
   "metadata": {},
   "outputs": [],
   "source": [
    "tab1['amt_cr']=np.where(tab1['amt_type']=='Cr',tab1['amt_value'],0)\n",
    "tab1['amt_dr']=np.where(tab1['amt_type']=='Dr',tab1['amt_value'],0)\n",
    "tab1['cb_cr']=np.where(tab1['cb_type']=='Cr',tab1['cb_value'],0)\n",
    "tab1['cb_dr']=np.where(tab1['cb_type']=='Dr',tab1['cb_value'],0)"
   ]
  },
  {
   "cell_type": "code",
   "execution_count": null,
   "id": "2759d04c",
   "metadata": {},
   "outputs": [],
   "source": [
    "tab1"
   ]
  },
  {
   "cell_type": "code",
   "execution_count": null,
   "id": "5c839477",
   "metadata": {},
   "outputs": [],
   "source": [
    "tab1['date']= tab1['date'].str.replace(\" \",\"\")"
   ]
  },
  {
   "cell_type": "code",
   "execution_count": null,
   "id": "cee0ab29",
   "metadata": {},
   "outputs": [],
   "source": [
    "tab1['txn_details']= tab1['txn_details'].str.strip()"
   ]
  },
  {
   "cell_type": "code",
   "execution_count": null,
   "id": "268b582a",
   "metadata": {},
   "outputs": [],
   "source": [
    "tab1=tab1.drop(['amt_value','amt_type','cb_value','cb_type'],axis=1)"
   ]
  },
  {
   "cell_type": "code",
   "execution_count": null,
   "id": "08ea90c4",
   "metadata": {},
   "outputs": [],
   "source": [
    "tab1"
   ]
  },
  {
   "cell_type": "code",
   "execution_count": null,
   "id": "dc133e9e",
   "metadata": {},
   "outputs": [],
   "source": [
    "tab1.columns = ['Date','Summary','Amount','Cashback','Amount Credit','Amount Debit','Cashback Credit','Cashback Debit']"
   ]
  },
  {
   "cell_type": "code",
   "execution_count": null,
   "id": "76e24fa8",
   "metadata": {},
   "outputs": [],
   "source": [
    "tab1"
   ]
  },
  {
   "cell_type": "code",
   "execution_count": null,
   "id": "517760a5",
   "metadata": {},
   "outputs": [],
   "source": []
  }
 ],
 "metadata": {
  "kernelspec": {
   "display_name": "Python 3 (ipykernel)",
   "language": "python",
   "name": "python3"
  },
  "language_info": {
   "codemirror_mode": {
    "name": "ipython",
    "version": 3
   },
   "file_extension": ".py",
   "mimetype": "text/x-python",
   "name": "python",
   "nbconvert_exporter": "python",
   "pygments_lexer": "ipython3",
   "version": "3.8.10"
  }
 },
 "nbformat": 4,
 "nbformat_minor": 5
}
