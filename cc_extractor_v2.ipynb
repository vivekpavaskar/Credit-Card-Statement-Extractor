{
 "cells": [
  {
   "cell_type": "code",
   "execution_count": 17,
   "id": "a51ddd27",
   "metadata": {},
   "outputs": [],
   "source": [
    "import camelot\n",
    "import pandas as pd\n",
    "import numpy as np\n",
    "import cred as cred\n",
    "import os"
   ]
  },
  {
   "cell_type": "code",
   "execution_count": 18,
   "id": "afb5c2d5",
   "metadata": {},
   "outputs": [
    {
     "data": {
      "text/plain": [
       "'Credit Card Statement 21-10.pdf'"
      ]
     },
     "execution_count": 18,
     "metadata": {},
     "output_type": "execute_result"
    }
   ],
   "source": [
    "filenames = os.listdir('./pdf')[1:]\n",
    "filenames[3]"
   ]
  },
  {
   "cell_type": "code",
   "execution_count": 19,
   "id": "4207410e",
   "metadata": {},
   "outputs": [],
   "source": [
    "def df_creator(temp):\n",
    "    \n",
    "    print('creating df.....')\n",
    "    \n",
    "    table = pd.DataFrame(temp)\n",
    "\n",
    "    table['amt'] = table['amt'].str.replace(\" \",\"\")\n",
    "    table['cb'] = table['cb'].str.replace(\" \",\"\")\n",
    "\n",
    "    table['amt_value'] = table['amt'].str.slice(stop=-2)\n",
    "    table['amt_type'] = table['amt'].str.slice(start=-2)\n",
    "    table['cb_value'] = table['cb'].str.slice(stop=-2)\n",
    "    table['cb_type'] = table['cb'].str.slice(start=-2)\n",
    "\n",
    "    table['amt_cr'] = np.where(table['amt_type']=='Cr',table['amt_value'],0)\n",
    "    table['amt_dr'] = np.where(table['amt_type']=='Dr',table['amt_value'],0)\n",
    "    table['cb_cr'] = np.where(table['cb_type']=='Cr',table['cb_value'],0)\n",
    "    table['cb_dr'] = np.where(table['cb_type']=='Dr',table['cb_value'],0)\n",
    "\n",
    "    table['date'] = table['date'].str.replace(\" \",\"\")\n",
    "\n",
    "    table['txn_details'] = table['txn_details'].str.strip()\n",
    "\n",
    "    table = table.drop(['amt_value','amt_type','cb_value','cb_type'],axis=1)\n",
    "\n",
    "    table.columns = ['Date','Summary','Amount','Cashback','Amount Credit','Amount Debit','Cashback Credit','Cashback Debit']\n",
    "    \n",
    "    return table"
   ]
  },
  {
   "cell_type": "code",
   "execution_count": 20,
   "id": "933f03a7",
   "metadata": {},
   "outputs": [],
   "source": [
    "def pdf_to_csv(filename):\n",
    "    tables = camelot.read_pdf('./pdf/'+filename,password=cred.password, pages='all')\n",
    "    \n",
    "    print('extrating table 1....')\n",
    "    \n",
    "    temp1 = {\n",
    "    'date' : tables[1].df[1][1].split(\"\\n\"),\n",
    "    'txn_details' : tables[1].df[2][1].split(\"\\n\"),\n",
    "    'amt' : tables[1].df[4][1].split(\"\\n\"),\n",
    "    'cb' : tables[1].df[5][1].split(\"\\n\")\n",
    "    }\n",
    "    \n",
    "    tab1 = df_creator(temp1)\n",
    "    \n",
    "    try:\n",
    "        print('extrating table 2....')\n",
    "    \n",
    "        temp2 = {\n",
    "        'date' : tables[5].df[0][0].split(\"\\n\"),\n",
    "        'txn_details' : tables[5].df[1][0].split(\"\\n\"),\n",
    "        'amt' : tables[5].df[3][0].split(\"\\n\"),\n",
    "        'cb' : tables[5].df[4][0].split(\"\\n\")\n",
    "        }\n",
    "        tab2 = df_creator(temp2)\n",
    "    \n",
    "        print('concating table 1&2....')\n",
    "        tab0 = pd.concat([tab1,tab2])\n",
    "    except:\n",
    "        tab0 = tab1\n",
    "    \n",
    "    print('Saving csv.....')\n",
    "    tab0.to_csv('./csv/'+filename[:-4]+'.csv')\n",
    "    "
   ]
  },
  {
   "cell_type": "code",
   "execution_count": 22,
   "id": "1a9402f3",
   "metadata": {},
   "outputs": [
    {
     "name": "stdout",
     "output_type": "stream",
     "text": [
      "extrating table 1....\n",
      "creating df.....\n",
      "extrating table 2....\n",
      "Saving csv.....\n"
     ]
    }
   ],
   "source": [
    "# for filename in filenames:\n",
    "#     print('processing '+filename+'....')\n",
    "#     pdf_to_csv(filename)\n",
    "pdf_to_csv(filenames[3])"
   ]
  },
  {
   "cell_type": "code",
   "execution_count": null,
   "id": "e3adc557",
   "metadata": {},
   "outputs": [],
   "source": []
  }
 ],
 "metadata": {
  "kernelspec": {
   "display_name": "Python 3 (ipykernel)",
   "language": "python",
   "name": "python3"
  },
  "language_info": {
   "codemirror_mode": {
    "name": "ipython",
    "version": 3
   },
   "file_extension": ".py",
   "mimetype": "text/x-python",
   "name": "python",
   "nbconvert_exporter": "python",
   "pygments_lexer": "ipython3",
   "version": "3.8.10"
  }
 },
 "nbformat": 4,
 "nbformat_minor": 5
}
